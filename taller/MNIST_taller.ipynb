{
  "cells": [
    {
      "cell_type": "markdown",
      "metadata": {
        "id": "kBX-rbwPa75s"
      },
      "source": [
        "# Taller Talent Land 2022\n",
        "## Reconocimiento Digitos (MNIST)\n",
        "- **Universidad Marista de Guadalajara (UMG)**\n",
        "- **Talent Land 2022**\n",
        "- Instructor: **Iván Reyes**"
      ]
    },
    {
      "cell_type": "markdown",
      "metadata": {},
      "source": [
        "## Cargar librerías"
      ]
    },
    {
      "cell_type": "code",
      "execution_count": null,
      "metadata": {
        "colab": {
          "base_uri": "https://localhost:8080/"
        },
        "id": "f9vAiGqPa750",
        "outputId": "f02ddfb9-05bd-4c15-e2a4-4ed79be2242e"
      },
      "outputs": [],
      "source": [
        "import tensorflow as tf\n",
        "from tensorflow import keras\n",
        "from tensorflow.python.client import device_lib\n",
        "from keras.datasets import mnist\n",
        "from tensorflow.keras.utils import to_categorical\n",
        "import numpy as np\n",
        "from tensorflow.keras.models import Sequential\n",
        "from tensorflow.keras.layers import Dense, Activation, Flatten, Dropout"
      ]
    },
    {
      "cell_type": "markdown",
      "metadata": {},
      "source": [
        "# Cargar dataset"
      ]
    },
    {
      "cell_type": "code",
      "execution_count": null,
      "metadata": {},
      "outputs": [],
      "source": [
        "(X_train, y_train), (X_test, y_test) = mnist.load_data()\n",
        "print(\"Numero de imagenes de entrenamiento: \", X_train.shape[0])\n",
        "print(\"Numero de imagenes de prueba: \", X_test.shape[0])"
      ]
    },
    {
      "cell_type": "code",
      "execution_count": null,
      "metadata": {
        "colab": {
          "base_uri": "https://localhost:8080/",
          "height": 268
        },
        "id": "6thqQWYsa751",
        "outputId": "0b62ffd0-bd6b-4c0a-830a-03181af4625d"
      },
      "outputs": [],
      "source": [
        "import matplotlib.pyplot as plt\n",
        "import numpy as np\n",
        "\n",
        "# create a grid of 3x3 images\n",
        "plt.figure(figsize=(10, 10))\n",
        "for i in range(0, 9):\n",
        "\tplt.subplot(330 + 1 + i)\n",
        "\tplt.title(f\"Dígito: {y_train[i]}\")\n",
        "\tplt.imshow(X_train[i], cmap=plt.get_cmap('gray'))\n",
        "plt.show()"
      ]
    },
    {
      "cell_type": "markdown",
      "metadata": {
        "id": "61PTVqLua750"
      },
      "source": [
        "# Pre-procesamiento\n",
        "- Codificación de etiquetas *One-hot*\n",
        "- Formato de datos"
      ]
    },
    {
      "cell_type": "code",
      "execution_count": null,
      "metadata": {
        "id": "0TmSpjEGa751"
      },
      "outputs": [],
      "source": [
        "# compute the number of labels\n",
        "num_labels = len(np.unique(y_train))\n",
        "\n",
        "# convert to one-hot vector\n",
        "y_train = to_categorical(y_train)\n",
        "y_test = to_categorical(y_test)\n",
        "\n",
        "# image dimensions (assumed square)\n",
        "image_size = X_train.shape[1]\n",
        "input_size = image_size * image_size\n",
        "\n",
        "# resize and normalize\n",
        "X_train = np.reshape(X_train, [-1, input_size])\n",
        "X_train = X_train.astype('float32') / 255\n",
        "X_test = np.reshape(X_test, [-1, input_size])\n",
        "X_test = X_test.astype('float32') / 255"
      ]
    },
    {
      "cell_type": "code",
      "execution_count": null,
      "metadata": {
        "colab": {
          "base_uri": "https://localhost:8080/"
        },
        "id": "4i09j1j6a752",
        "outputId": "4a2c5bc4-9b19-4c0f-f9de-67d50840db81"
      },
      "outputs": [],
      "source": [
        "X_train.shape, X_test.shape, y_train.shape, y_test.shape"
      ]
    },
    {
      "cell_type": "markdown",
      "metadata": {
        "id": "dxwly-Aua752"
      },
      "source": [
        "# Modelo de Red Neuronal"
      ]
    },
    {
      "cell_type": "markdown",
      "metadata": {
        "id": "u1E33WeEa752"
      },
      "source": [
        "## Hyperparámetros\n",
        "Opciones que le damos al modelo para construirlo y entrenarlo"
      ]
    },
    {
      "cell_type": "code",
      "execution_count": null,
      "metadata": {
        "id": "qqpuMcs6a753"
      },
      "outputs": [],
      "source": [
        "# neuronas\n",
        "hidden_units = 4 \n",
        "\n",
        "# épocas\n",
        "epochs = 5\n",
        "\n",
        "# regularización\n",
        "dropout = 0.4"
      ]
    },
    {
      "cell_type": "markdown",
      "metadata": {},
      "source": [
        "## Arquitectura del Modelo"
      ]
    },
    {
      "cell_type": "code",
      "execution_count": null,
      "metadata": {
        "colab": {
          "base_uri": "https://localhost:8080/"
        },
        "id": "eMo1E_LVa753",
        "outputId": "e8320604-54ee-4d9f-e39a-5fa135b752d8"
      },
      "outputs": [],
      "source": [
        "model = Sequential(name=\"TalentLand\")\n",
        "model.add(Dense(hidden_units, input_dim=input_size, activation = \"relu\"))\n",
        "model.add(Dropout(dropout))\n",
        "model.add(Dense(hidden_units, activation = \"relu\"))\n",
        "model.add(Dropout(dropout))\n",
        "model.add(Dense(num_labels))\n",
        "model.add(Activation('softmax'))\n",
        "model.summary()"
      ]
    },
    {
      "cell_type": "code",
      "execution_count": null,
      "metadata": {
        "id": "w-v7-FEJa753"
      },
      "outputs": [],
      "source": [
        "model.compile(\n",
        "    loss='categorical_crossentropy',\n",
        "    optimizer='adam',\n",
        "    metrics=['accuracy']\n",
        ")"
      ]
    },
    {
      "cell_type": "code",
      "execution_count": null,
      "metadata": {
        "colab": {
          "base_uri": "https://localhost:8080/"
        },
        "id": "6P1yX4t9a754",
        "outputId": "87812a65-360d-4e46-d36a-cc930de5c4a9"
      },
      "outputs": [],
      "source": [
        "history = model.fit(\n",
        "    x = X_train,\n",
        "    y = y_train,\n",
        "    validation_data = (X_test, y_test),\n",
        "    epochs = epochs,\n",
        "    batch_size=128\n",
        ")"
      ]
    },
    {
      "cell_type": "code",
      "execution_count": null,
      "metadata": {
        "colab": {
          "base_uri": "https://localhost:8080/",
          "height": 367
        },
        "id": "AWx7ICZVa754",
        "outputId": "b83b086e-4e32-4ef0-a772-690522e280ea"
      },
      "outputs": [],
      "source": [
        "import matplotlib.pyplot as plt\n",
        "\n",
        "def plot_history(history):\n",
        "\n",
        "    plt.figure(figsize=(10, 5))\n",
        "\n",
        "    plt.subplot(121)\n",
        "    plt.plot(history.history['accuracy'])\n",
        "    plt.plot(history.history['val_accuracy'])\n",
        "    plt.title('Precisión del Modelo')\n",
        "    plt.ylabel('Precisión')\n",
        "    plt.xlabel('Época')\n",
        "    plt.legend(['Entrenamiento', 'Prueba'], loc='upper left')\n",
        "\n",
        "    plt.subplot(122)\n",
        "    plt.plot(history.history['loss'])\n",
        "    plt.plot(history.history['val_loss'])\n",
        "    plt.title('Pérdida del Modelo')\n",
        "    plt.ylabel('Pérdida')\n",
        "    plt.xlabel('Época')\n",
        "    plt.legend(['Entrenamiento', 'Prueba'], loc='upper left')\n",
        "\n",
        "    plt.show()\n",
        "\n",
        "plot_history(history)"
      ]
    },
    {
      "cell_type": "markdown",
      "metadata": {
        "id": "z5Yootkna755"
      },
      "source": [
        "## Evaluación del Modelo"
      ]
    },
    {
      "cell_type": "code",
      "execution_count": null,
      "metadata": {},
      "outputs": [],
      "source": [
        "i = 300\n",
        "\n",
        "test_digit = X_test[i]\n",
        "test_label = np.argmax(y_test[i])\n",
        "pred = model.predict(test_digit.reshape(1, -1))\n",
        "pred_label = np.argmax(pred, axis = 1)\n",
        "plt.figure(figsize=(5, 5))\n",
        "plt.title(f\"Dígito: {test_label}, Predicción: {pred_label[0]}\")\n",
        "plt.imshow(test_digit.reshape(28, 28), cmap=plt.get_cmap('gray'))\n",
        "plt.show()\n"
      ]
    },
    {
      "cell_type": "code",
      "execution_count": null,
      "metadata": {
        "colab": {
          "base_uri": "https://localhost:8080/"
        },
        "id": "FL_8xBAka755",
        "outputId": "5f751ea3-a503-4850-850d-6d25a11ac8e7"
      },
      "outputs": [],
      "source": [
        "_, acc = model.evaluate(\n",
        "    X_test,\n",
        "    y_test,\n",
        "    batch_size=128,\n",
        "    verbose=0\n",
        ")\n",
        "print(\"Precisión de la Prueba: %.1f%%\" % (100.0 * acc))"
      ]
    },
    {
      "cell_type": "markdown",
      "metadata": {
        "id": "33pm7OL0a755"
      },
      "source": [
        "## Guardar el Modelo"
      ]
    },
    {
      "cell_type": "code",
      "execution_count": null,
      "metadata": {
        "id": "mOxeiMwPa756"
      },
      "outputs": [],
      "source": [
        "model.save('modelo_talent_land.h5')"
      ]
    },
    {
      "cell_type": "markdown",
      "metadata": {
        "id": "pKLm2Tpga756"
      },
      "source": [
        "## Cargar el Modelo"
      ]
    },
    {
      "cell_type": "code",
      "execution_count": null,
      "metadata": {
        "colab": {
          "base_uri": "https://localhost:8080/"
        },
        "id": "du1ZSWQxa756",
        "outputId": "60144de8-a217-4da2-d9aa-3ceeb823d695"
      },
      "outputs": [],
      "source": [
        "reconstructed_model = tf.keras.models.load_model(\"modelo_talent_land.h5\")\n",
        "_, acc = reconstructed_model.evaluate(X_test, y_test)\n",
        "print(\"Precisión de la Prueba: %.1f%%\" % (100.0 * acc))"
      ]
    }
  ],
  "metadata": {
    "accelerator": "GPU",
    "colab": {
      "collapsed_sections": [],
      "name": "Dense_MNIST.ipynb",
      "provenance": []
    },
    "gpuClass": "standard",
    "kernelspec": {
      "display_name": "Python 3.8.12 ('PhD')",
      "language": "python",
      "name": "python3"
    },
    "language_info": {
      "codemirror_mode": {
        "name": "ipython",
        "version": 3
      },
      "file_extension": ".py",
      "mimetype": "text/x-python",
      "name": "python",
      "nbconvert_exporter": "python",
      "pygments_lexer": "ipython3",
      "version": "3.8.12"
    },
    "orig_nbformat": 4,
    "vscode": {
      "interpreter": {
        "hash": "e17d129d6f27db8b87f58b5fa141e866dbba91479774a0f83bbb21f59b590d58"
      }
    }
  },
  "nbformat": 4,
  "nbformat_minor": 0
}
